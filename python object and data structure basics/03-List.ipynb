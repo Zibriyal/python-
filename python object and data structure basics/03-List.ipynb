{
 "cells": [
  {
   "cell_type": "code",
   "execution_count": 1,
   "id": "01e51e9a-53fc-4c71-9f58-febc82357b7c",
   "metadata": {},
   "outputs": [],
   "source": [
    "my_list=[1,2,3]"
   ]
  },
  {
   "cell_type": "code",
   "execution_count": 2,
   "id": "c6eb79a9-8b85-4540-b3a2-048c7b3c16f5",
   "metadata": {},
   "outputs": [],
   "source": [
    "my_list=['string',12,12.25]"
   ]
  },
  {
   "cell_type": "code",
   "execution_count": 3,
   "id": "9f644393-8506-498c-8aee-2a12874f1331",
   "metadata": {},
   "outputs": [
    {
     "data": {
      "text/plain": [
       "3"
      ]
     },
     "execution_count": 3,
     "metadata": {},
     "output_type": "execute_result"
    }
   ],
   "source": [
    "len(my_list)"
   ]
  },
  {
   "cell_type": "code",
   "execution_count": 15,
   "id": "7429f49d-45fa-4806-8338-fb84ce022fc8",
   "metadata": {},
   "outputs": [],
   "source": [
    "# list contain oordered elements so it can be used in indexing\n",
    "my_list=['One','Two','Three']\n"
   ]
  },
  {
   "cell_type": "code",
   "execution_count": 5,
   "id": "78d7a4e1-12a7-43bc-ae7a-f43f479a5516",
   "metadata": {},
   "outputs": [
    {
     "data": {
      "text/plain": [
       "'One'"
      ]
     },
     "execution_count": 5,
     "metadata": {},
     "output_type": "execute_result"
    }
   ],
   "source": [
    "my_list[0]"
   ]
  },
  {
   "cell_type": "code",
   "execution_count": 8,
   "id": "744ed977-0bc7-4314-a286-b3b598896bce",
   "metadata": {},
   "outputs": [
    {
     "data": {
      "text/plain": [
       "['Two', 'Three']"
      ]
     },
     "execution_count": 8,
     "metadata": {},
     "output_type": "execute_result"
    }
   ],
   "source": [
    "my_list[1:3]"
   ]
  },
  {
   "cell_type": "code",
   "execution_count": 9,
   "id": "0376d7e5-ceb1-4d09-8ab2-cb6b28017ac4",
   "metadata": {},
   "outputs": [
    {
     "data": {
      "text/plain": [
       "['Two', 'Three']"
      ]
     },
     "execution_count": 9,
     "metadata": {},
     "output_type": "execute_result"
    }
   ],
   "source": [
    "my_list[1:]"
   ]
  },
  {
   "cell_type": "code",
   "execution_count": 10,
   "id": "08db2ed6-5a23-4522-9270-74d4de856993",
   "metadata": {},
   "outputs": [],
   "source": [
    "# concatinate list"
   ]
  },
  {
   "cell_type": "code",
   "execution_count": 11,
   "id": "284245df-d975-4f7f-854d-1ba91042f358",
   "metadata": {},
   "outputs": [],
   "source": [
    "another_list=['Four','Five']"
   ]
  },
  {
   "cell_type": "code",
   "execution_count": 12,
   "id": "52f6bf77-c396-453f-80af-7699fc9e40e2",
   "metadata": {},
   "outputs": [
    {
     "data": {
      "text/plain": [
       "['One', 'Two', 'Three', 'Four', 'Five']"
      ]
     },
     "execution_count": 12,
     "metadata": {},
     "output_type": "execute_result"
    }
   ],
   "source": [
    "my_list + another_list"
   ]
  },
  {
   "cell_type": "code",
   "execution_count": 13,
   "id": "607e74a4-d0db-4604-a235-ebc20c1dd8c8",
   "metadata": {},
   "outputs": [],
   "source": [
    "new_list= my_list+another_list"
   ]
  },
  {
   "cell_type": "code",
   "execution_count": 14,
   "id": "532d5d9c-aeca-4552-9baf-0cab1d7e7b92",
   "metadata": {},
   "outputs": [
    {
     "data": {
      "text/plain": [
       "['One', 'Two', 'Three', 'Four', 'Five']"
      ]
     },
     "execution_count": 14,
     "metadata": {},
     "output_type": "execute_result"
    }
   ],
   "source": [
    "new_list\n"
   ]
  },
  {
   "cell_type": "code",
   "execution_count": 16,
   "id": "675d9e4a-d224-40dd-83e0-2e6a9635ad78",
   "metadata": {},
   "outputs": [],
   "source": [
    "#mutable list "
   ]
  },
  {
   "cell_type": "code",
   "execution_count": 17,
   "id": "84c34d29-75cd-40ea-a441-a7cc0cc45575",
   "metadata": {},
   "outputs": [
    {
     "data": {
      "text/plain": [
       "['One', 'Two', 'Three', 'Four', 'Five']"
      ]
     },
     "execution_count": 17,
     "metadata": {},
     "output_type": "execute_result"
    }
   ],
   "source": [
    "new_list"
   ]
  },
  {
   "cell_type": "code",
   "execution_count": 18,
   "id": "1bda5691-1be4-4fd5-ad25-f166939ea298",
   "metadata": {},
   "outputs": [
    {
     "data": {
      "text/plain": [
       "['One all caps', 'Two', 'Three', 'Four', 'Five']"
      ]
     },
     "execution_count": 18,
     "metadata": {},
     "output_type": "execute_result"
    }
   ],
   "source": [
    "new_list[0]='One all caps'\n",
    "\n",
    "new_list"
   ]
  },
  {
   "cell_type": "code",
   "execution_count": 19,
   "id": "bc5b3332-6068-4dd0-89ab-7280bfdd52d7",
   "metadata": {},
   "outputs": [],
   "source": [
    "#add element at end of list\n"
   ]
  },
  {
   "cell_type": "code",
   "execution_count": 20,
   "id": "764386f9-5a28-4fef-b2c1-a8b2f96e06e2",
   "metadata": {},
   "outputs": [],
   "source": [
    "new_list.append('Six')"
   ]
  },
  {
   "cell_type": "code",
   "execution_count": 21,
   "id": "6380023f-dade-400d-bae2-1d77de90f02e",
   "metadata": {},
   "outputs": [
    {
     "data": {
      "text/plain": [
       "['One all caps', 'Two', 'Three', 'Four', 'Five', 'Six']"
      ]
     },
     "execution_count": 21,
     "metadata": {},
     "output_type": "execute_result"
    }
   ],
   "source": [
    "new_list"
   ]
  },
  {
   "cell_type": "code",
   "execution_count": 22,
   "id": "5c2b5c3c-8e86-4507-b482-6a3f74142fbd",
   "metadata": {},
   "outputs": [],
   "source": [
    "new_list.append('Seven')"
   ]
  },
  {
   "cell_type": "code",
   "execution_count": 23,
   "id": "2899e522-fb96-485f-a8c1-aa5401a9f117",
   "metadata": {},
   "outputs": [
    {
     "data": {
      "text/plain": [
       "['One all caps', 'Two', 'Three', 'Four', 'Five', 'Six', 'Seven']"
      ]
     },
     "execution_count": 23,
     "metadata": {},
     "output_type": "execute_result"
    }
   ],
   "source": [
    "new_list"
   ]
  },
  {
   "cell_type": "code",
   "execution_count": 24,
   "id": "907c97e4-b712-4e9d-a1ed-cb05b655e46b",
   "metadata": {},
   "outputs": [],
   "source": [
    "# pop to remove end element of the list"
   ]
  },
  {
   "cell_type": "code",
   "execution_count": 25,
   "id": "1e4c3b4f-3da3-4cf3-b1ee-3d679e55bcb1",
   "metadata": {},
   "outputs": [
    {
     "data": {
      "text/plain": [
       "'Seven'"
      ]
     },
     "execution_count": 25,
     "metadata": {},
     "output_type": "execute_result"
    }
   ],
   "source": [
    "new_list.pop()"
   ]
  },
  {
   "cell_type": "code",
   "execution_count": 26,
   "id": "ee638e63-0ac1-44ca-98d5-075ad7087142",
   "metadata": {},
   "outputs": [
    {
     "data": {
      "text/plain": [
       "['One all caps', 'Two', 'Three', 'Four', 'Five', 'Six']"
      ]
     },
     "execution_count": 26,
     "metadata": {},
     "output_type": "execute_result"
    }
   ],
   "source": [
    "new_list"
   ]
  },
  {
   "cell_type": "code",
   "execution_count": 27,
   "id": "07b7c8e4-da4b-424e-a448-f6c67ad7fa24",
   "metadata": {},
   "outputs": [],
   "source": [
    "popped_item=new_list.pop()"
   ]
  },
  {
   "cell_type": "code",
   "execution_count": 28,
   "id": "455b1f53-07a7-4ee7-bd3f-42408095d271",
   "metadata": {},
   "outputs": [
    {
     "data": {
      "text/plain": [
       "'Six'"
      ]
     },
     "execution_count": 28,
     "metadata": {},
     "output_type": "execute_result"
    }
   ],
   "source": [
    "popped_item"
   ]
  },
  {
   "cell_type": "code",
   "execution_count": 29,
   "id": "a4944a30-7176-4c4e-a4b9-6cd5036e1671",
   "metadata": {},
   "outputs": [
    {
     "data": {
      "text/plain": [
       "['One all caps', 'Two', 'Three', 'Four', 'Five']"
      ]
     },
     "execution_count": 29,
     "metadata": {},
     "output_type": "execute_result"
    }
   ],
   "source": [
    "new_list"
   ]
  },
  {
   "cell_type": "code",
   "execution_count": 30,
   "id": "7db0a648-7de5-408c-99c1-1b3769278ab0",
   "metadata": {},
   "outputs": [],
   "source": [
    "# to remove element at specific index"
   ]
  },
  {
   "cell_type": "code",
   "execution_count": 31,
   "id": "cdc9dd66-914f-40f4-8110-506013403312",
   "metadata": {},
   "outputs": [
    {
     "data": {
      "text/plain": [
       "'One all caps'"
      ]
     },
     "execution_count": 31,
     "metadata": {},
     "output_type": "execute_result"
    }
   ],
   "source": [
    "new_list.pop(0)"
   ]
  },
  {
   "cell_type": "code",
   "execution_count": 32,
   "id": "71f7fde6-22af-4270-9ae9-31e5bf8308de",
   "metadata": {},
   "outputs": [
    {
     "data": {
      "text/plain": [
       "['Two', 'Three', 'Four', 'Five']"
      ]
     },
     "execution_count": 32,
     "metadata": {},
     "output_type": "execute_result"
    }
   ],
   "source": [
    "new_list"
   ]
  },
  {
   "cell_type": "code",
   "execution_count": 37,
   "id": "53e466b7-c7a3-40da-b1a7-27882ba630be",
   "metadata": {},
   "outputs": [],
   "source": [
    "# sort() and reverse ()\n",
    "new_list=['a','f','r','w','e','s']\n",
    "num_list=[1,2,5,7,9,3]"
   ]
  },
  {
   "cell_type": "code",
   "execution_count": 38,
   "id": "f09d663f-5ba2-4737-85c8-f78ab00edc85",
   "metadata": {},
   "outputs": [],
   "source": [
    "new_list.sort()"
   ]
  },
  {
   "cell_type": "code",
   "execution_count": 39,
   "id": "65bc79c5-b10d-4cde-8cad-8461c63298b8",
   "metadata": {},
   "outputs": [
    {
     "data": {
      "text/plain": [
       "['a', 'e', 'f', 'r', 's', 'w']"
      ]
     },
     "execution_count": 39,
     "metadata": {},
     "output_type": "execute_result"
    }
   ],
   "source": [
    "new_list"
   ]
  },
  {
   "cell_type": "code",
   "execution_count": 40,
   "id": "19795ba6-c109-4d01-a2dc-0efd84bcfcfa",
   "metadata": {},
   "outputs": [
    {
     "data": {
      "text/plain": [
       "['a', 'e', 'f', 'r', 's', 'w']"
      ]
     },
     "execution_count": 40,
     "metadata": {},
     "output_type": "execute_result"
    }
   ],
   "source": [
    "new_list"
   ]
  },
  {
   "cell_type": "code",
   "execution_count": 41,
   "id": "609fb1d1-b897-4614-918e-5af3ea278b3d",
   "metadata": {},
   "outputs": [],
   "source": [
    "sorted_list=new_list.sort()"
   ]
  },
  {
   "cell_type": "code",
   "execution_count": 42,
   "id": "41ec0453-f78e-4da6-809d-6913f26d3368",
   "metadata": {},
   "outputs": [],
   "source": [
    "sorted_list"
   ]
  },
  {
   "cell_type": "code",
   "execution_count": 44,
   "id": "e726a664-87b0-4a39-8a39-12b170d6e4b9",
   "metadata": {},
   "outputs": [
    {
     "data": {
      "text/plain": [
       "['a', 'e', 'f', 'r', 's', 'w']"
      ]
     },
     "execution_count": 44,
     "metadata": {},
     "output_type": "execute_result"
    }
   ],
   "source": [
    "new_list.sort()\n",
    "sorted_list=new_list\n",
    "sorted_list"
   ]
  },
  {
   "cell_type": "code",
   "execution_count": 45,
   "id": "6ed2bcc4-faa5-448c-89f3-b7466b2329fe",
   "metadata": {},
   "outputs": [
    {
     "data": {
      "text/plain": [
       "[1, 2, 3, 5, 7, 9]"
      ]
     },
     "execution_count": 45,
     "metadata": {},
     "output_type": "execute_result"
    }
   ],
   "source": [
    "num_list.sort()\n",
    "num_list"
   ]
  },
  {
   "cell_type": "code",
   "execution_count": 46,
   "id": "7cd41f39-f91e-4ef6-8219-827690c97204",
   "metadata": {},
   "outputs": [],
   "source": [
    "num_list.reverse()"
   ]
  },
  {
   "cell_type": "code",
   "execution_count": 47,
   "id": "e8e163f4-052f-4a21-aac0-ee2fb03a55fe",
   "metadata": {},
   "outputs": [
    {
     "data": {
      "text/plain": [
       "[9, 7, 5, 3, 2, 1]"
      ]
     },
     "execution_count": 47,
     "metadata": {},
     "output_type": "execute_result"
    }
   ],
   "source": [
    "num_list"
   ]
  },
  {
   "cell_type": "code",
   "execution_count": null,
   "id": "7fed38f7-a0d8-47a7-b52e-7d5d780f79b9",
   "metadata": {},
   "outputs": [],
   "source": []
  }
 ],
 "metadata": {
  "kernelspec": {
   "display_name": "Python 3 (ipykernel)",
   "language": "python",
   "name": "python3"
  },
  "language_info": {
   "codemirror_mode": {
    "name": "ipython",
    "version": 3
   },
   "file_extension": ".py",
   "mimetype": "text/x-python",
   "name": "python",
   "nbconvert_exporter": "python",
   "pygments_lexer": "ipython3",
   "version": "3.12.7"
  }
 },
 "nbformat": 4,
 "nbformat_minor": 5
}
