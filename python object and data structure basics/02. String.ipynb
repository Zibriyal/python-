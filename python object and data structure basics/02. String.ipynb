{
 "cells": [
  {
   "cell_type": "code",
   "execution_count": 1,
   "id": "1fe90196-9aaf-4395-b7e1-9793431714b8",
   "metadata": {},
   "outputs": [
    {
     "data": {
      "text/plain": [
       "'Hello'"
      ]
     },
     "execution_count": 1,
     "metadata": {},
     "output_type": "execute_result"
    }
   ],
   "source": [
    "\"Hello\""
   ]
  },
  {
   "cell_type": "code",
   "execution_count": 2,
   "id": "6cd822ca-84f0-4a6e-97f7-38b878d4fa2e",
   "metadata": {},
   "outputs": [
    {
     "data": {
      "text/plain": [
       "'World'"
      ]
     },
     "execution_count": 2,
     "metadata": {},
     "output_type": "execute_result"
    }
   ],
   "source": [
    "'World'"
   ]
  },
  {
   "cell_type": "code",
   "execution_count": 3,
   "id": "dc7f54a0-8962-411a-8c47-ecd3fd15cdb8",
   "metadata": {},
   "outputs": [
    {
     "data": {
      "text/plain": [
       "'this is also a string'"
      ]
     },
     "execution_count": 3,
     "metadata": {},
     "output_type": "execute_result"
    }
   ],
   "source": [
    "'this is also a string'"
   ]
  },
  {
   "cell_type": "code",
   "execution_count": 4,
   "id": "195e2639-49e0-4bf3-bb57-69df864bccaf",
   "metadata": {},
   "outputs": [
    {
     "ename": "SyntaxError",
     "evalue": "unterminated string literal (detected at line 1) (375039999.py, line 1)",
     "output_type": "error",
     "traceback": [
      "\u001b[1;36m  Cell \u001b[1;32mIn[4], line 1\u001b[1;36m\u001b[0m\n\u001b[1;33m    'I'm going on a run'\u001b[0m\n\u001b[1;37m                       ^\u001b[0m\n\u001b[1;31mSyntaxError\u001b[0m\u001b[1;31m:\u001b[0m unterminated string literal (detected at line 1)\n"
     ]
    }
   ],
   "source": [
    "'I'm going on a run'"
   ]
  },
  {
   "cell_type": "code",
   "execution_count": 5,
   "id": "625282e9-0ad8-4a98-9362-706a75963c33",
   "metadata": {},
   "outputs": [
    {
     "data": {
      "text/plain": [
       "\"I'm going on a run\""
      ]
     },
     "execution_count": 5,
     "metadata": {},
     "output_type": "execute_result"
    }
   ],
   "source": [
    "\"I'm going on a run\"                 "
   ]
  },
  {
   "cell_type": "code",
   "execution_count": 6,
   "id": "97799a81-0f76-416a-80e4-1b3b76d6ef1f",
   "metadata": {},
   "outputs": [
    {
     "name": "stdout",
     "output_type": "stream",
     "text": [
      "Hello\n"
     ]
    }
   ],
   "source": [
    "print(\"Hello\")"
   ]
  },
  {
   "cell_type": "code",
   "execution_count": 7,
   "id": "d961bb54-458f-4e8b-801d-f3c0c7e4f417",
   "metadata": {},
   "outputs": [
    {
     "data": {
      "text/plain": [
       "'Hello world two'"
      ]
     },
     "execution_count": 7,
     "metadata": {},
     "output_type": "execute_result"
    }
   ],
   "source": [
    "\"Hello world one\"\n",
    "\"Hello world two\"         #only last string printed\n"
   ]
  },
  {
   "cell_type": "code",
   "execution_count": 8,
   "id": "410d4fd6-d305-4581-b42b-40b0b7f65ed4",
   "metadata": {},
   "outputs": [
    {
     "name": "stdout",
     "output_type": "stream",
     "text": [
      "Hello world one\n",
      "Hello world two\n"
     ]
    }
   ],
   "source": [
    "print(\"Hello world one\")\n",
    "print(\"Hello world two\")"
   ]
  },
  {
   "cell_type": "code",
   "execution_count": 9,
   "id": "3f332c40-0034-4886-ae5f-622db65e6b4a",
   "metadata": {},
   "outputs": [
    {
     "name": "stdout",
     "output_type": "stream",
     "text": [
      "Hello \n",
      " World\n"
     ]
    }
   ],
   "source": [
    "# escape sequence\n",
    "\n",
    "print(\"Hello \\n World\")"
   ]
  },
  {
   "cell_type": "code",
   "execution_count": 10,
   "id": "1e254633-8020-41a8-bfa3-a7b40a98e9c0",
   "metadata": {},
   "outputs": [
    {
     "name": "stdout",
     "output_type": "stream",
     "text": [
      "Hello \t World\n"
     ]
    }
   ],
   "source": [
    "print(\"Hello \\t World\")"
   ]
  },
  {
   "cell_type": "code",
   "execution_count": 11,
   "id": "fa6031d3-8c2c-42a0-bd9f-a8942174e552",
   "metadata": {},
   "outputs": [
    {
     "data": {
      "text/plain": [
       "5"
      ]
     },
     "execution_count": 11,
     "metadata": {},
     "output_type": "execute_result"
    }
   ],
   "source": [
    "# Length ln\n",
    "len(\"Hello\")"
   ]
  },
  {
   "cell_type": "code",
   "execution_count": 12,
   "id": "f4bfa995-5613-4f80-a380-43b0875abc59",
   "metadata": {},
   "outputs": [
    {
     "data": {
      "text/plain": [
       "4"
      ]
     },
     "execution_count": 12,
     "metadata": {},
     "output_type": "execute_result"
    }
   ],
   "source": [
    "len(\"I am\")"
   ]
  },
  {
   "cell_type": "markdown",
   "id": "0f6373d0-8c13-4f2e-a2c0-52c55860624d",
   "metadata": {},
   "source": [
    "# Indexing and slicing"
   ]
  },
  {
   "cell_type": "code",
   "execution_count": 18,
   "id": "0b65bdb1-c1fb-43f7-8260-e5ac1d9ad23b",
   "metadata": {},
   "outputs": [],
   "source": [
    "mystrng=\"Hello world\""
   ]
  },
  {
   "cell_type": "code",
   "execution_count": 19,
   "id": "f96cf64c-5d33-4164-b562-a46d774bbeea",
   "metadata": {},
   "outputs": [
    {
     "data": {
      "text/plain": [
       "'Hello world'"
      ]
     },
     "execution_count": 19,
     "metadata": {},
     "output_type": "execute_result"
    }
   ],
   "source": [
    "mystrng"
   ]
  },
  {
   "cell_type": "code",
   "execution_count": 20,
   "id": "8f07f7f6-6309-4758-9373-f1f68998a7b6",
   "metadata": {},
   "outputs": [
    {
     "ename": "SyntaxError",
     "evalue": "invalid syntax (1422416498.py, line 1)",
     "output_type": "error",
     "traceback": [
      "\u001b[1;36m  Cell \u001b[1;32mIn[20], line 1\u001b[1;36m\u001b[0m\n\u001b[1;33m    mystrng[]\u001b[0m\n\u001b[1;37m            ^\u001b[0m\n\u001b[1;31mSyntaxError\u001b[0m\u001b[1;31m:\u001b[0m invalid syntax\n"
     ]
    }
   ],
   "source": [
    "mystrng[]"
   ]
  },
  {
   "cell_type": "code",
   "execution_count": 21,
   "id": "2fae69ce-ed90-42a3-b306-48f8f4f72f20",
   "metadata": {},
   "outputs": [
    {
     "data": {
      "text/plain": [
       "'Hello world'"
      ]
     },
     "execution_count": 21,
     "metadata": {},
     "output_type": "execute_result"
    }
   ],
   "source": [
    "mystrng"
   ]
  },
  {
   "cell_type": "code",
   "execution_count": 22,
   "id": "c03ce905-dd25-4ba7-9387-c376288a2719",
   "metadata": {},
   "outputs": [
    {
     "data": {
      "text/plain": [
       "'H'"
      ]
     },
     "execution_count": 22,
     "metadata": {},
     "output_type": "execute_result"
    }
   ],
   "source": [
    "mystrng[0]"
   ]
  },
  {
   "cell_type": "code",
   "execution_count": 23,
   "id": "eb899544-cdb9-4bf0-9fde-c6732593155e",
   "metadata": {},
   "outputs": [
    {
     "data": {
      "text/plain": [
       "'r'"
      ]
     },
     "execution_count": 23,
     "metadata": {},
     "output_type": "execute_result"
    }
   ],
   "source": [
    "mystrng[8]"
   ]
  },
  {
   "cell_type": "code",
   "execution_count": 24,
   "id": "0c1a206a-d192-4146-b02e-8541e7619360",
   "metadata": {},
   "outputs": [
    {
     "data": {
      "text/plain": [
       "'Hello world'"
      ]
     },
     "execution_count": 24,
     "metadata": {},
     "output_type": "execute_result"
    }
   ],
   "source": [
    "mystrng"
   ]
  },
  {
   "cell_type": "code",
   "execution_count": 25,
   "id": "004e6e44-f018-4362-91ce-4b79cb379713",
   "metadata": {},
   "outputs": [
    {
     "data": {
      "text/plain": [
       "'r'"
      ]
     },
     "execution_count": 25,
     "metadata": {},
     "output_type": "execute_result"
    }
   ],
   "source": [
    "mystrng[-3]"
   ]
  },
  {
   "cell_type": "code",
   "execution_count": 26,
   "id": "2cc61e59-468b-48b0-9d25-57825884eed3",
   "metadata": {},
   "outputs": [
    {
     "data": {
      "text/plain": [
       "'l'"
      ]
     },
     "execution_count": 26,
     "metadata": {},
     "output_type": "execute_result"
    }
   ],
   "source": [
    "mystrng[9]"
   ]
  },
  {
   "cell_type": "code",
   "execution_count": 27,
   "id": "4a07663b-7845-43a3-a7f0-e02a6b719571",
   "metadata": {},
   "outputs": [
    {
     "data": {
      "text/plain": [
       "'l'"
      ]
     },
     "execution_count": 27,
     "metadata": {},
     "output_type": "execute_result"
    }
   ],
   "source": [
    "mystrng[-2]"
   ]
  },
  {
   "cell_type": "code",
   "execution_count": 28,
   "id": "62111ce9-ca36-4bc4-9152-ede24251a3f7",
   "metadata": {},
   "outputs": [
    {
     "data": {
      "text/plain": [
       "'d'"
      ]
     },
     "execution_count": 28,
     "metadata": {},
     "output_type": "execute_result"
    }
   ],
   "source": [
    "mystrng[-1]"
   ]
  },
  {
   "cell_type": "markdown",
   "id": "24502173-9edc-4f26-81f0-6c37ec1c72c9",
   "metadata": {},
   "source": [
    "# Slicing"
   ]
  },
  {
   "cell_type": "code",
   "execution_count": 1,
   "id": "949b9b8c-718a-45e3-9b50-a960bdb807be",
   "metadata": {},
   "outputs": [],
   "source": [
    "mystrng='abcdefg'"
   ]
  },
  {
   "cell_type": "code",
   "execution_count": 2,
   "id": "cbb9cf17-4deb-4044-8f40-251104180566",
   "metadata": {},
   "outputs": [
    {
     "data": {
      "text/plain": [
       "'abcdefg'"
      ]
     },
     "execution_count": 2,
     "metadata": {},
     "output_type": "execute_result"
    }
   ],
   "source": [
    "mystrng"
   ]
  },
  {
   "cell_type": "code",
   "execution_count": 3,
   "id": "5aaf6732-c3aa-4ac8-8a9c-f4109baf1415",
   "metadata": {},
   "outputs": [
    {
     "data": {
      "text/plain": [
       "'cdefg'"
      ]
     },
     "execution_count": 3,
     "metadata": {},
     "output_type": "execute_result"
    }
   ],
   "source": [
    "mystrng[2:]"
   ]
  },
  {
   "cell_type": "code",
   "execution_count": 4,
   "id": "ce85e64f-e49c-42fc-8595-83156680aa61",
   "metadata": {},
   "outputs": [
    {
     "data": {
      "text/plain": [
       "'abc'"
      ]
     },
     "execution_count": 4,
     "metadata": {},
     "output_type": "execute_result"
    }
   ],
   "source": [
    "mystrng[:3]"
   ]
  },
  {
   "cell_type": "code",
   "execution_count": 5,
   "id": "04142cba-67e1-4850-955c-4813c67fe7f0",
   "metadata": {},
   "outputs": [
    {
     "data": {
      "text/plain": [
       "'abcdefg'"
      ]
     },
     "execution_count": 5,
     "metadata": {},
     "output_type": "execute_result"
    }
   ],
   "source": [
    "mystrng"
   ]
  },
  {
   "cell_type": "code",
   "execution_count": 6,
   "id": "86898c1b-4592-47d7-a9d7-ab3e7810802d",
   "metadata": {},
   "outputs": [
    {
     "data": {
      "text/plain": [
       "'bc'"
      ]
     },
     "execution_count": 6,
     "metadata": {},
     "output_type": "execute_result"
    }
   ],
   "source": [
    "mystrng[1:3]"
   ]
  },
  {
   "cell_type": "code",
   "execution_count": 7,
   "id": "16abb968-540e-4a53-8b82-54cfc5b31bc1",
   "metadata": {},
   "outputs": [
    {
     "data": {
      "text/plain": [
       "'cde'"
      ]
     },
     "execution_count": 7,
     "metadata": {},
     "output_type": "execute_result"
    }
   ],
   "source": [
    "mystrng[2:5]"
   ]
  },
  {
   "cell_type": "code",
   "execution_count": 10,
   "id": "30752335-9cba-47e7-9584-bdac52dcaa75",
   "metadata": {},
   "outputs": [
    {
     "data": {
      "text/plain": [
       "'abcdefg'"
      ]
     },
     "execution_count": 10,
     "metadata": {},
     "output_type": "execute_result"
    }
   ],
   "source": [
    "mystrng"
   ]
  },
  {
   "cell_type": "code",
   "execution_count": 11,
   "id": "03398c6e-89f4-4cb5-9df8-94e12f07d809",
   "metadata": {},
   "outputs": [
    {
     "data": {
      "text/plain": [
       "'abcdefg'"
      ]
     },
     "execution_count": 11,
     "metadata": {},
     "output_type": "execute_result"
    }
   ],
   "source": [
    "mystrng[::]"
   ]
  },
  {
   "cell_type": "markdown",
   "id": "d38a75fa-e3f8-4cea-9dac-b9f4344d8972",
   "metadata": {},
   "source": [
    "# steps"
   ]
  },
  {
   "cell_type": "code",
   "execution_count": 8,
   "id": "a4bb81a7-53fe-4f59-aa53-7c68528a518d",
   "metadata": {},
   "outputs": [
    {
     "data": {
      "text/plain": [
       "'abcdefg'"
      ]
     },
     "execution_count": 8,
     "metadata": {},
     "output_type": "execute_result"
    }
   ],
   "source": [
    "mystrng"
   ]
  },
  {
   "cell_type": "code",
   "execution_count": 9,
   "id": "e73331ab-8d96-43b4-b34f-2b2687264589",
   "metadata": {},
   "outputs": [
    {
     "data": {
      "text/plain": [
       "'aceg'"
      ]
     },
     "execution_count": 9,
     "metadata": {},
     "output_type": "execute_result"
    }
   ],
   "source": [
    "mystrng[::2]"
   ]
  },
  {
   "cell_type": "code",
   "execution_count": 12,
   "id": "7aa2b9bc-12e5-4350-a597-39cb89c6abca",
   "metadata": {},
   "outputs": [
    {
     "data": {
      "text/plain": [
       "'adg'"
      ]
     },
     "execution_count": 12,
     "metadata": {},
     "output_type": "execute_result"
    }
   ],
   "source": [
    "mystrng[::3]"
   ]
  },
  {
   "cell_type": "code",
   "execution_count": 13,
   "id": "7e95539b-c5c9-4f1f-865b-833b47077b28",
   "metadata": {},
   "outputs": [
    {
     "data": {
      "text/plain": [
       "'ceg'"
      ]
     },
     "execution_count": 13,
     "metadata": {},
     "output_type": "execute_result"
    }
   ],
   "source": [
    "mystrng[2:7:2]"
   ]
  },
  {
   "cell_type": "code",
   "execution_count": 14,
   "id": "2e8df212-766e-49f5-a7b9-ee9b58a4ad57",
   "metadata": {},
   "outputs": [
    {
     "data": {
      "text/plain": [
       "'abcdefg'"
      ]
     },
     "execution_count": 14,
     "metadata": {},
     "output_type": "execute_result"
    }
   ],
   "source": [
    "mystrng"
   ]
  },
  {
   "cell_type": "code",
   "execution_count": 15,
   "id": "08801393-3a25-48e3-864e-70f8a6c4e53b",
   "metadata": {},
   "outputs": [
    {
     "data": {
      "text/plain": [
       "'gfedcba'"
      ]
     },
     "execution_count": 15,
     "metadata": {},
     "output_type": "execute_result"
    }
   ],
   "source": [
    "mystrng[::-1]"
   ]
  },
  {
   "cell_type": "markdown",
   "id": "52c43c97-2169-4ca7-a095-edca65617d4f",
   "metadata": {},
   "source": [
    "# String properties and methods"
   ]
  },
  {
   "cell_type": "markdown",
   "id": "a9df932a-573c-48cf-bc4d-f3474cfc8aa3",
   "metadata": {},
   "source": [
    "Immutability"
   ]
  },
  {
   "cell_type": "code",
   "execution_count": 16,
   "id": "db67fc47-7839-434d-a642-5ad1c8a9b4a2",
   "metadata": {},
   "outputs": [],
   "source": [
    "name = 'Sam'"
   ]
  },
  {
   "cell_type": "code",
   "execution_count": 17,
   "id": "c5975593-dd04-40af-9bb9-d89e8df92812",
   "metadata": {},
   "outputs": [
    {
     "ename": "TypeError",
     "evalue": "'str' object does not support item assignment",
     "output_type": "error",
     "traceback": [
      "\u001b[1;31m---------------------------------------------------------------------------\u001b[0m",
      "\u001b[1;31mTypeError\u001b[0m                                 Traceback (most recent call last)",
      "Cell \u001b[1;32mIn[17], line 1\u001b[0m\n\u001b[1;32m----> 1\u001b[0m name[\u001b[38;5;241m0\u001b[39m]\u001b[38;5;241m=\u001b[39m\u001b[38;5;124m'\u001b[39m\u001b[38;5;124mP\u001b[39m\u001b[38;5;124m'\u001b[39m\n",
      "\u001b[1;31mTypeError\u001b[0m: 'str' object does not support item assignment"
     ]
    }
   ],
   "source": [
    "name[0]='P'"
   ]
  },
  {
   "cell_type": "code",
   "execution_count": 20,
   "id": "03c2553c-4146-4076-8da4-45980804646f",
   "metadata": {},
   "outputs": [],
   "source": [
    "last_letters=name[1:3]"
   ]
  },
  {
   "cell_type": "code",
   "execution_count": 21,
   "id": "e33e34d5-dafa-4691-a5f6-67668f521a58",
   "metadata": {},
   "outputs": [
    {
     "data": {
      "text/plain": [
       "'am'"
      ]
     },
     "execution_count": 21,
     "metadata": {},
     "output_type": "execute_result"
    }
   ],
   "source": [
    "last_letters"
   ]
  },
  {
   "cell_type": "code",
   "execution_count": 22,
   "id": "42a272fe-8d86-49ab-8d0e-f15a1f5f6253",
   "metadata": {},
   "outputs": [
    {
     "data": {
      "text/plain": [
       "'Pam'"
      ]
     },
     "execution_count": 22,
     "metadata": {},
     "output_type": "execute_result"
    }
   ],
   "source": [
    "'P'+last_letters  #concatination"
   ]
  },
  {
   "cell_type": "code",
   "execution_count": 23,
   "id": "130ac7c4-57db-45b5-b913-3bfc92cdef0a",
   "metadata": {},
   "outputs": [],
   "source": [
    "x='Hello world!'"
   ]
  },
  {
   "cell_type": "code",
   "execution_count": 24,
   "id": "9e99284e-6cdc-414d-96a9-902380e9f80d",
   "metadata": {},
   "outputs": [
    {
     "data": {
      "text/plain": [
       "'Hello world!It is beautiful outside.'"
      ]
     },
     "execution_count": 24,
     "metadata": {},
     "output_type": "execute_result"
    }
   ],
   "source": [
    "x + \"It is beautiful outside.\""
   ]
  },
  {
   "cell_type": "code",
   "execution_count": 25,
   "id": "581f3f34-a4d7-4a37-8eb9-0fb69b785a82",
   "metadata": {},
   "outputs": [],
   "source": [
    "\n",
    "y= \"Hello World\"\n",
    "\n"
   ]
  },
  {
   "cell_type": "code",
   "execution_count": 28,
   "id": "e9714d60-103f-4559-aaee-43a1311a29bb",
   "metadata": {},
   "outputs": [],
   "source": [
    "y=y+' It is beautiful outside'"
   ]
  },
  {
   "cell_type": "code",
   "execution_count": 29,
   "id": "d669a5bb-a3dc-4977-8134-cb6711497765",
   "metadata": {},
   "outputs": [
    {
     "data": {
      "text/plain": [
       "'Hello WorldIt is beautiful outside It is beautiful outside'"
      ]
     },
     "execution_count": 29,
     "metadata": {},
     "output_type": "execute_result"
    }
   ],
   "source": [
    "y"
   ]
  },
  {
   "cell_type": "code",
   "execution_count": 30,
   "id": "bbc4b5c5-814b-4f8a-a07a-5da032ef2ae0",
   "metadata": {},
   "outputs": [],
   "source": [
    "letter = 'z'"
   ]
  },
  {
   "cell_type": "code",
   "execution_count": 31,
   "id": "b5541182-d22e-41d5-b77b-34dcac117dad",
   "metadata": {},
   "outputs": [
    {
     "data": {
      "text/plain": [
       "'zzzzzzzzzz'"
      ]
     },
     "execution_count": 31,
     "metadata": {},
     "output_type": "execute_result"
    }
   ],
   "source": [
    "letter *10"
   ]
  },
  {
   "cell_type": "code",
   "execution_count": 32,
   "id": "46e91393-328c-458e-882b-0a4277ac2841",
   "metadata": {},
   "outputs": [
    {
     "data": {
      "text/plain": [
       "5"
      ]
     },
     "execution_count": 32,
     "metadata": {},
     "output_type": "execute_result"
    }
   ],
   "source": [
    "2+3"
   ]
  },
  {
   "cell_type": "code",
   "execution_count": 33,
   "id": "ba1c5561-13fc-48f0-b36c-e30159624420",
   "metadata": {},
   "outputs": [
    {
     "data": {
      "text/plain": [
       "'23'"
      ]
     },
     "execution_count": 33,
     "metadata": {},
     "output_type": "execute_result"
    }
   ],
   "source": [
    "'2' +'3'"
   ]
  },
  {
   "cell_type": "markdown",
   "id": "89db9c96-f9f0-4d99-8ec8-086156f87ebb",
   "metadata": {},
   "source": [
    "# Functions of list"
   ]
  },
  {
   "cell_type": "code",
   "execution_count": 34,
   "id": "b94d6068-d6ce-4e8c-b024-d7fb0d32d577",
   "metadata": {},
   "outputs": [],
   "source": [
    "x=\"Hello world\""
   ]
  },
  {
   "cell_type": "code",
   "execution_count": 35,
   "id": "d0447d93-b81c-4564-a97a-0c75f7db7028",
   "metadata": {},
   "outputs": [
    {
     "data": {
      "text/plain": [
       "<function str.upper()>"
      ]
     },
     "execution_count": 35,
     "metadata": {},
     "output_type": "execute_result"
    }
   ],
   "source": [
    "x.upper"
   ]
  },
  {
   "cell_type": "code",
   "execution_count": 36,
   "id": "bd26dedc-128e-4540-acee-bdb5d093061c",
   "metadata": {},
   "outputs": [
    {
     "data": {
      "text/plain": [
       "'HELLO WORLD'"
      ]
     },
     "execution_count": 36,
     "metadata": {},
     "output_type": "execute_result"
    }
   ],
   "source": [
    "x.upper()"
   ]
  },
  {
   "cell_type": "code",
   "execution_count": 37,
   "id": "c0952f07-719c-4a56-aa46-7f08561d22bb",
   "metadata": {},
   "outputs": [
    {
     "data": {
      "text/plain": [
       "'Hello world'"
      ]
     },
     "execution_count": 37,
     "metadata": {},
     "output_type": "execute_result"
    }
   ],
   "source": [
    "x"
   ]
  },
  {
   "cell_type": "code",
   "execution_count": 39,
   "id": "0a6d3f81-f3fc-4785-a137-aca84a967d82",
   "metadata": {},
   "outputs": [
    {
     "data": {
      "text/plain": [
       "'hello world'"
      ]
     },
     "execution_count": 39,
     "metadata": {},
     "output_type": "execute_result"
    }
   ],
   "source": [
    "x.lower()"
   ]
  },
  {
   "cell_type": "code",
   "execution_count": 40,
   "id": "8d29c5be-d77b-444e-97a5-709e566cf2ff",
   "metadata": {},
   "outputs": [
    {
     "data": {
      "text/plain": [
       "['Hello', 'world']"
      ]
     },
     "execution_count": 40,
     "metadata": {},
     "output_type": "execute_result"
    }
   ],
   "source": [
    "x.split()"
   ]
  },
  {
   "cell_type": "code",
   "execution_count": 41,
   "id": "40051337-e0ad-4fe2-bc00-5e428dbdd5bd",
   "metadata": {},
   "outputs": [],
   "source": [
    "y='Hi this is a string'"
   ]
  },
  {
   "cell_type": "code",
   "execution_count": 42,
   "id": "f6d519b8-19da-42fe-954e-e6516e73be68",
   "metadata": {},
   "outputs": [
    {
     "data": {
      "text/plain": [
       "['H', ' th', 's ', 's a str', 'ng']"
      ]
     },
     "execution_count": 42,
     "metadata": {},
     "output_type": "execute_result"
    }
   ],
   "source": [
    "y.split('i')"
   ]
  },
  {
   "cell_type": "markdown",
   "id": "5c4e0bf7-5d42-417f-bf04-1d53a09f4d24",
   "metadata": {},
   "source": [
    "# Print formatting with string"
   ]
  },
  {
   "cell_type": "markdown",
   "id": "6a8672e5-9d71-463b-882e-d4c6dd84cd4b",
   "metadata": {},
   "source": [
    ".Fromat method"
   ]
  },
  {
   "cell_type": "code",
   "execution_count": 45,
   "id": "66bbba53-4dab-4bb0-8a29-46cfaf1add1c",
   "metadata": {},
   "outputs": [
    {
     "name": "stdout",
     "output_type": "stream",
     "text": [
      "This is a string Inserted\n"
     ]
    }
   ],
   "source": [
    "print('This is a string {}'.format(\"Inserted\"))"
   ]
  },
  {
   "cell_type": "code",
   "execution_count": 48,
   "id": "144462df-c5b7-4b68-a71a-e0895cfa6e5b",
   "metadata": {},
   "outputs": [
    {
     "name": "stdout",
     "output_type": "stream",
     "text": [
      "The Fox Quick Brown \n"
     ]
    }
   ],
   "source": [
    "print(\"The {} {} {} \".format(\"Fox\",\"Quick\",\"Brown\"))"
   ]
  },
  {
   "cell_type": "code",
   "execution_count": 49,
   "id": "6e83f730-bdc5-45e3-a8b1-38e3a56dd7b9",
   "metadata": {},
   "outputs": [
    {
     "name": "stdout",
     "output_type": "stream",
     "text": [
      "The Quick Brown Fox \n"
     ]
    }
   ],
   "source": [
    "print(\"The {1} {2} {0} \".format(\"Fox\",\"Quick\",\"Brown\"))"
   ]
  },
  {
   "cell_type": "code",
   "execution_count": 50,
   "id": "0977a4a3-db4f-497f-b69c-b24416899815",
   "metadata": {},
   "outputs": [
    {
     "name": "stdout",
     "output_type": "stream",
     "text": [
      "The Fox Fox Fox \n"
     ]
    }
   ],
   "source": [
    "print(\"The {0} {0} {0} \".format(\"Fox\",\"Quick\",\"Brown\"))"
   ]
  },
  {
   "cell_type": "code",
   "execution_count": 51,
   "id": "9c0b6474-ea23-475a-800f-8f40f941f2ac",
   "metadata": {},
   "outputs": [
    {
     "name": "stdout",
     "output_type": "stream",
     "text": [
      "The Quick Brown Fox \n"
     ]
    }
   ],
   "source": [
    "print(\"The {q} {b} {f} \".format(f=\"Fox\",q=\"Quick\",b=\"Brown\"))"
   ]
  },
  {
   "cell_type": "markdown",
   "id": "04052488-5c54-41ef-a826-55a46119fcfc",
   "metadata": {},
   "source": [
    "# Float formatting folllows \"{value:width.precision f}\""
   ]
  },
  {
   "cell_type": "code",
   "execution_count": 52,
   "id": "14b92c66-8af6-4cd7-abb9-f4ac1e4125a0",
   "metadata": {},
   "outputs": [],
   "source": [
    "result=100/777"
   ]
  },
  {
   "cell_type": "code",
   "execution_count": 53,
   "id": "2826f326-69af-4871-a672-453727c8eb11",
   "metadata": {},
   "outputs": [
    {
     "data": {
      "text/plain": [
       "0.1287001287001287"
      ]
     },
     "execution_count": 53,
     "metadata": {},
     "output_type": "execute_result"
    }
   ],
   "source": [
    "result"
   ]
  },
  {
   "cell_type": "code",
   "execution_count": 55,
   "id": "3cc3afb7-7ad1-4905-a113-7a37c45eaf55",
   "metadata": {},
   "outputs": [
    {
     "name": "stdout",
     "output_type": "stream",
     "text": [
      "The result was: 0.1287001287001287\n"
     ]
    }
   ],
   "source": [
    "print(\"The result was: {r}\".format(r=result))"
   ]
  },
  {
   "cell_type": "code",
   "execution_count": 56,
   "id": "63e3b655-e7cd-4deb-a0b7-9c664922ba08",
   "metadata": {},
   "outputs": [
    {
     "name": "stdout",
     "output_type": "stream",
     "text": [
      "The result was: 0.129\n"
     ]
    }
   ],
   "source": [
    "print(\"The result was: {r:1.3f}\".format(r=result))"
   ]
  },
  {
   "cell_type": "code",
   "execution_count": 57,
   "id": "6caded7e-73be-450b-9f8e-705542458672",
   "metadata": {},
   "outputs": [
    {
     "name": "stdout",
     "output_type": "stream",
     "text": [
      "The result was:      0.129\n"
     ]
    }
   ],
   "source": [
    "print(\"The result was: {r:10.3f}\".format(r=result))"
   ]
  },
  {
   "cell_type": "code",
   "execution_count": 58,
   "id": "d3e85d61-8ee2-4952-aa0d-d521c6beb7dc",
   "metadata": {},
   "outputs": [
    {
     "name": "stdout",
     "output_type": "stream",
     "text": [
      "The result was: 0.12870\n"
     ]
    }
   ],
   "source": [
    "print(\"The result was: {r:1.5f}\".format(r=result))"
   ]
  },
  {
   "cell_type": "code",
   "execution_count": 63,
   "id": "ae2ee868-d3cc-4643-bf39-43a9eac19d44",
   "metadata": {},
   "outputs": [],
   "source": [
    "result1=104.2554456"
   ]
  },
  {
   "cell_type": "code",
   "execution_count": 64,
   "id": "385b64a6-14a7-4f04-b0ea-65c2825e05c4",
   "metadata": {},
   "outputs": [
    {
     "data": {
      "text/plain": [
       "104.2554456"
      ]
     },
     "execution_count": 64,
     "metadata": {},
     "output_type": "execute_result"
    }
   ],
   "source": [
    "result1\n"
   ]
  },
  {
   "cell_type": "code",
   "execution_count": 69,
   "id": "16fdd530-06e2-4d0e-99d9-1f1a33e92683",
   "metadata": {},
   "outputs": [
    {
     "name": "stdout",
     "output_type": "stream",
     "text": [
      "The result was : 104.3\n"
     ]
    }
   ],
   "source": [
    "print(\"The result was : {r1:1.1f}\".format(r1=result1))"
   ]
  },
  {
   "cell_type": "markdown",
   "id": "3ea7fced-60f8-4d0a-aba8-def68e8d5338",
   "metadata": {},
   "source": [
    "# F string"
   ]
  },
  {
   "cell_type": "code",
   "execution_count": 70,
   "id": "4c09973a-43b4-4802-acdb-47fb0e35f57d",
   "metadata": {},
   "outputs": [],
   "source": [
    "name='Godlike'"
   ]
  },
  {
   "cell_type": "code",
   "execution_count": 71,
   "id": "93745356-0b11-4e09-b28f-3890b4d6d60c",
   "metadata": {},
   "outputs": [
    {
     "name": "stdout",
     "output_type": "stream",
     "text": [
      "Hello, his name is Godlike\n"
     ]
    }
   ],
   "source": [
    "print(f\"Hello, his name is {name}\")"
   ]
  },
  {
   "cell_type": "code",
   "execution_count": 72,
   "id": "786d8dca-cd88-4929-9b2c-e3de7c99b279",
   "metadata": {},
   "outputs": [],
   "source": [
    "name = 'sam'\n",
    "age=3"
   ]
  },
  {
   "cell_type": "code",
   "execution_count": 73,
   "id": "f9d1b1da-7d07-47a9-a176-62b62870af3a",
   "metadata": {},
   "outputs": [
    {
     "name": "stdout",
     "output_type": "stream",
     "text": [
      "sam is 3 years old.\n"
     ]
    }
   ],
   "source": [
    "print(f\"{name} is {age} years old.\")"
   ]
  },
  {
   "cell_type": "code",
   "execution_count": null,
   "id": "5399d4f0-0f4e-4507-8be1-eec96588af8c",
   "metadata": {},
   "outputs": [],
   "source": []
  }
 ],
 "metadata": {
  "kernelspec": {
   "display_name": "Python 3 (ipykernel)",
   "language": "python",
   "name": "python3"
  },
  "language_info": {
   "codemirror_mode": {
    "name": "ipython",
    "version": 3
   },
   "file_extension": ".py",
   "mimetype": "text/x-python",
   "name": "python",
   "nbconvert_exporter": "python",
   "pygments_lexer": "ipython3",
   "version": "3.12.7"
  }
 },
 "nbformat": 4,
 "nbformat_minor": 5
}
