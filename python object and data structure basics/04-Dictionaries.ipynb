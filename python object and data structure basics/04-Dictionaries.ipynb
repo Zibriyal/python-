{
 "cells": [
  {
   "cell_type": "code",
   "execution_count": 1,
   "id": "641a3efb-9a71-4a89-ba69-0805a11a0c77",
   "metadata": {},
   "outputs": [],
   "source": [
    "# unordered mapping for storing objects in {key : value} pair"
   ]
  },
  {
   "cell_type": "code",
   "execution_count": 2,
   "id": "1fc9db7d-3c06-418c-80cf-1ac8ee95b92a",
   "metadata": {},
   "outputs": [],
   "source": [
    "#to retrieve value without exact knowing its index postion"
   ]
  },
  {
   "cell_type": "code",
   "execution_count": 3,
   "id": "c3e8c8fc-98c6-4f14-9067-b61b4086c9c8",
   "metadata": {},
   "outputs": [],
   "source": [
    "#cannot be sorted as it is in key:value pair"
   ]
  },
  {
   "cell_type": "code",
   "execution_count": null,
   "id": "79663347-55ec-49f5-b1b3-d69f999f7d91",
   "metadata": {},
   "outputs": [],
   "source": []
  },
  {
   "cell_type": "code",
   "execution_count": 7,
   "id": "85c629bf-b7bb-4daa-84b1-a1d69433cdf3",
   "metadata": {},
   "outputs": [],
   "source": [
    "my_dict={'key1':'value1','key2':'value2'}"
   ]
  },
  {
   "cell_type": "code",
   "execution_count": 8,
   "id": "133d2e13-2d62-4bdb-9314-0f177b5c9546",
   "metadata": {},
   "outputs": [
    {
     "data": {
      "text/plain": [
       "{'key1': 'value1', 'key2': 'value2'}"
      ]
     },
     "execution_count": 8,
     "metadata": {},
     "output_type": "execute_result"
    }
   ],
   "source": [
    "my_dict"
   ]
  },
  {
   "cell_type": "code",
   "execution_count": 9,
   "id": "de41a90c-9b4f-4b74-bb25-dde0cd3dc8f0",
   "metadata": {},
   "outputs": [
    {
     "data": {
      "text/plain": [
       "'value1'"
      ]
     },
     "execution_count": 9,
     "metadata": {},
     "output_type": "execute_result"
    }
   ],
   "source": [
    "my_dict['key1']"
   ]
  },
  {
   "cell_type": "code",
   "execution_count": 10,
   "id": "7e2dd55b-2880-4969-93a9-2a31e4c4ce04",
   "metadata": {},
   "outputs": [],
   "source": [
    "#To check pricess of groceries in store"
   ]
  },
  {
   "cell_type": "code",
   "execution_count": 14,
   "id": "e0d0198a-321a-4c99-9816-d73a1d0782e4",
   "metadata": {},
   "outputs": [],
   "source": [
    "prices_lookup={'Apple':2.99,'Milk':1.99,'Oranges':2.49}"
   ]
  },
  {
   "cell_type": "code",
   "execution_count": 15,
   "id": "9a912e14-fc50-45b4-8340-21b3de22c1e9",
   "metadata": {},
   "outputs": [
    {
     "data": {
      "text/plain": [
       "2.99"
      ]
     },
     "execution_count": 15,
     "metadata": {},
     "output_type": "execute_result"
    }
   ],
   "source": [
    "prices_lookup['Apple']"
   ]
  },
  {
   "cell_type": "code",
   "execution_count": 16,
   "id": "791b30c7-90d4-4c93-8a2b-0cb826c8fb9b",
   "metadata": {},
   "outputs": [],
   "source": [
    "# Flexible in other data type too"
   ]
  },
  {
   "cell_type": "code",
   "execution_count": 17,
   "id": "b671f0c7-3452-4a76-b8c2-a529a5fc0289",
   "metadata": {},
   "outputs": [],
   "source": [
    "d={'k1':123,'k2':[1,2,3],'k3':{'inside_key':100}}"
   ]
  },
  {
   "cell_type": "code",
   "execution_count": 18,
   "id": "d8825b49-d55f-4ff6-b32e-dd2c80f96895",
   "metadata": {},
   "outputs": [
    {
     "data": {
      "text/plain": [
       "[1, 2, 3]"
      ]
     },
     "execution_count": 18,
     "metadata": {},
     "output_type": "execute_result"
    }
   ],
   "source": [
    "d['k2']"
   ]
  },
  {
   "cell_type": "code",
   "execution_count": 19,
   "id": "6aee3493-913e-4489-8e7f-4938e971e1f6",
   "metadata": {},
   "outputs": [
    {
     "data": {
      "text/plain": [
       "{'inside_key': 100}"
      ]
     },
     "execution_count": 19,
     "metadata": {},
     "output_type": "execute_result"
    }
   ],
   "source": [
    "d['k3']                         #to get value of 'insidekey'"
   ]
  },
  {
   "cell_type": "code",
   "execution_count": 20,
   "id": "d7a57cc5-32b9-4a61-b6fb-2d208051d12a",
   "metadata": {},
   "outputs": [
    {
     "data": {
      "text/plain": [
       "100"
      ]
     },
     "execution_count": 20,
     "metadata": {},
     "output_type": "execute_result"
    }
   ],
   "source": [
    "d['k3']['inside_key']"
   ]
  },
  {
   "cell_type": "code",
   "execution_count": 28,
   "id": "6bc14e1a-b027-4eec-9644-ab4cefe4343f",
   "metadata": {},
   "outputs": [],
   "source": [
    "#making c charater in capital\n",
    "d1={'key1':['a','b','c','d']}"
   ]
  },
  {
   "cell_type": "code",
   "execution_count": 29,
   "id": "30b70818-4aa4-446b-8df6-68cae00c3831",
   "metadata": {},
   "outputs": [
    {
     "data": {
      "text/plain": [
       "['a', 'b', 'c', 'd']"
      ]
     },
     "execution_count": 29,
     "metadata": {},
     "output_type": "execute_result"
    }
   ],
   "source": [
    "d1['key1']"
   ]
  },
  {
   "cell_type": "code",
   "execution_count": 30,
   "id": "4cbff735-e681-4fcc-869e-91168045e029",
   "metadata": {},
   "outputs": [],
   "source": [
    "list1=d1['key1']"
   ]
  },
  {
   "cell_type": "code",
   "execution_count": 31,
   "id": "6adda4fd-87a0-41ce-99b6-0666c8ecc2bc",
   "metadata": {},
   "outputs": [
    {
     "data": {
      "text/plain": [
       "['a', 'b', 'c', 'd']"
      ]
     },
     "execution_count": 31,
     "metadata": {},
     "output_type": "execute_result"
    }
   ],
   "source": [
    "list1"
   ]
  },
  {
   "cell_type": "code",
   "execution_count": 32,
   "id": "d57c45b3-fa77-4783-b6de-35461ad35eda",
   "metadata": {},
   "outputs": [
    {
     "data": {
      "text/plain": [
       "'d'"
      ]
     },
     "execution_count": 32,
     "metadata": {},
     "output_type": "execute_result"
    }
   ],
   "source": [
    "list1[3]"
   ]
  },
  {
   "cell_type": "code",
   "execution_count": 33,
   "id": "16e8216e-070a-4cff-9309-af20509c1622",
   "metadata": {},
   "outputs": [
    {
     "data": {
      "text/plain": [
       "'D'"
      ]
     },
     "execution_count": 33,
     "metadata": {},
     "output_type": "execute_result"
    }
   ],
   "source": [
    "list1[3].upper()"
   ]
  },
  {
   "cell_type": "code",
   "execution_count": 36,
   "id": "467f5c2c-5ac7-42a2-b874-6bebf20e277b",
   "metadata": {},
   "outputs": [
    {
     "data": {
      "text/plain": [
       "'D'"
      ]
     },
     "execution_count": 36,
     "metadata": {},
     "output_type": "execute_result"
    }
   ],
   "source": [
    "d1['key1'][3].upper()"
   ]
  },
  {
   "cell_type": "code",
   "execution_count": 37,
   "id": "956f8ea3-e6ef-450f-bab5-caaad7563fa0",
   "metadata": {},
   "outputs": [
    {
     "data": {
      "text/plain": [
       "{'key1': ['a', 'b', 'c', 'd']}"
      ]
     },
     "execution_count": 37,
     "metadata": {},
     "output_type": "execute_result"
    }
   ],
   "source": [
    "d1"
   ]
  },
  {
   "cell_type": "code",
   "execution_count": 38,
   "id": "24e9d70a-910a-47e3-84f4-79ebe2539515",
   "metadata": {},
   "outputs": [],
   "source": [
    "d2={'k1':100,'k2':200,'k3':300}"
   ]
  },
  {
   "cell_type": "code",
   "execution_count": 39,
   "id": "3ac3f15f-976d-4492-94a8-d8d4a0337d75",
   "metadata": {},
   "outputs": [
    {
     "data": {
      "text/plain": [
       "{'k1': 100, 'k2': 200, 'k3': 300}"
      ]
     },
     "execution_count": 39,
     "metadata": {},
     "output_type": "execute_result"
    }
   ],
   "source": [
    "d2"
   ]
  },
  {
   "cell_type": "code",
   "execution_count": 40,
   "id": "c28b54cb-5561-415f-bf55-c24f2c374a35",
   "metadata": {},
   "outputs": [],
   "source": [
    "d2['k4']=400"
   ]
  },
  {
   "cell_type": "code",
   "execution_count": 41,
   "id": "a93883c0-a7c0-44c9-abfa-776ec75ee7ae",
   "metadata": {},
   "outputs": [
    {
     "data": {
      "text/plain": [
       "{'k1': 100, 'k2': 200, 'k3': 300, 'k4': 400}"
      ]
     },
     "execution_count": 41,
     "metadata": {},
     "output_type": "execute_result"
    }
   ],
   "source": [
    "d2"
   ]
  },
  {
   "cell_type": "code",
   "execution_count": 42,
   "id": "34df7d9c-f198-4c37-9421-d74a1867df44",
   "metadata": {},
   "outputs": [],
   "source": [
    "d2['k2']=150"
   ]
  },
  {
   "cell_type": "code",
   "execution_count": 43,
   "id": "2b30fa65-7582-4bfd-a63a-116b4675afac",
   "metadata": {},
   "outputs": [
    {
     "data": {
      "text/plain": [
       "{'k1': 100, 'k2': 150, 'k3': 300, 'k4': 400}"
      ]
     },
     "execution_count": 43,
     "metadata": {},
     "output_type": "execute_result"
    }
   ],
   "source": [
    "d2"
   ]
  },
  {
   "cell_type": "code",
   "execution_count": 44,
   "id": "cfa50768-7d0a-4752-8c20-f441d18bd6f5",
   "metadata": {},
   "outputs": [],
   "source": [
    "d2['k1']='New value'"
   ]
  },
  {
   "cell_type": "code",
   "execution_count": 45,
   "id": "71817c2b-954a-422e-9bcf-076afe0aef86",
   "metadata": {},
   "outputs": [
    {
     "data": {
      "text/plain": [
       "{'k1': 'New value', 'k2': 150, 'k3': 300, 'k4': 400}"
      ]
     },
     "execution_count": 45,
     "metadata": {},
     "output_type": "execute_result"
    }
   ],
   "source": [
    "d2"
   ]
  },
  {
   "cell_type": "code",
   "execution_count": 46,
   "id": "282fa600-da74-416e-bfef-47e197c14f60",
   "metadata": {},
   "outputs": [],
   "source": [
    "d2={'k1': 100, 'k2': 200, 'k3': 300, 'k4': 400}"
   ]
  },
  {
   "cell_type": "code",
   "execution_count": 47,
   "id": "18eb6d01-4397-4daa-9f10-278f3df2e5a3",
   "metadata": {},
   "outputs": [
    {
     "data": {
      "text/plain": [
       "{'k1': 100, 'k2': 200, 'k3': 300, 'k4': 400}"
      ]
     },
     "execution_count": 47,
     "metadata": {},
     "output_type": "execute_result"
    }
   ],
   "source": [
    "d2"
   ]
  },
  {
   "cell_type": "code",
   "execution_count": 48,
   "id": "fdd5a6de-0454-42dd-a0ff-95c6e85b11ca",
   "metadata": {},
   "outputs": [
    {
     "data": {
      "text/plain": [
       "dict_keys(['k1', 'k2', 'k3', 'k4'])"
      ]
     },
     "execution_count": 48,
     "metadata": {},
     "output_type": "execute_result"
    }
   ],
   "source": [
    "d2.keys()"
   ]
  },
  {
   "cell_type": "code",
   "execution_count": 49,
   "id": "f4052a15-9596-4716-a17a-2d5da4c4dda9",
   "metadata": {},
   "outputs": [
    {
     "data": {
      "text/plain": [
       "dict_values([100, 200, 300, 400])"
      ]
     },
     "execution_count": 49,
     "metadata": {},
     "output_type": "execute_result"
    }
   ],
   "source": [
    "d2.values()"
   ]
  },
  {
   "cell_type": "code",
   "execution_count": 50,
   "id": "db3a076e-dd11-4b64-b85b-75b49aa7cc41",
   "metadata": {},
   "outputs": [
    {
     "data": {
      "text/plain": [
       "dict_items([('k1', 100), ('k2', 200), ('k3', 300), ('k4', 400)])"
      ]
     },
     "execution_count": 50,
     "metadata": {},
     "output_type": "execute_result"
    }
   ],
   "source": [
    "d2.items()"
   ]
  },
  {
   "cell_type": "code",
   "execution_count": null,
   "id": "86375355-9103-4a4d-8203-135e45269acd",
   "metadata": {},
   "outputs": [],
   "source": []
  }
 ],
 "metadata": {
  "kernelspec": {
   "display_name": "Python 3 (ipykernel)",
   "language": "python",
   "name": "python3"
  },
  "language_info": {
   "codemirror_mode": {
    "name": "ipython",
    "version": 3
   },
   "file_extension": ".py",
   "mimetype": "text/x-python",
   "name": "python",
   "nbconvert_exporter": "python",
   "pygments_lexer": "ipython3",
   "version": "3.12.7"
  }
 },
 "nbformat": 4,
 "nbformat_minor": 5
}
