{
 "cells": [
  {
   "cell_type": "markdown",
   "id": "0933f5a4-8881-4b93-80f2-e75fb3912d96",
   "metadata": {},
   "source": [
    "#Arithmatic operation"
   ]
  },
  {
   "cell_type": "code",
   "execution_count": 1,
   "id": "245c0cec-591b-44ae-8b26-ffd928e38654",
   "metadata": {},
   "outputs": [
    {
     "data": {
      "text/plain": [
       "3"
      ]
     },
     "execution_count": 1,
     "metadata": {},
     "output_type": "execute_result"
    }
   ],
   "source": [
    " 2+1\n"
   ]
  },
  {
   "cell_type": "code",
   "execution_count": 2,
   "id": "b4e8231e-49a8-4a5d-b080-9db1c8a17ac3",
   "metadata": {},
   "outputs": [
    {
     "data": {
      "text/plain": [
       "1"
      ]
     },
     "execution_count": 2,
     "metadata": {},
     "output_type": "execute_result"
    }
   ],
   "source": [
    "2-1"
   ]
  },
  {
   "cell_type": "code",
   "execution_count": 3,
   "id": "22bd58fb-c7ce-469e-bead-697c0098d652",
   "metadata": {},
   "outputs": [
    {
     "data": {
      "text/plain": [
       "4"
      ]
     },
     "execution_count": 3,
     "metadata": {},
     "output_type": "execute_result"
    }
   ],
   "source": [
    "2*2"
   ]
  },
  {
   "cell_type": "code",
   "execution_count": 4,
   "id": "d35d2dc4-648d-4848-8fcd-2e836ae680f3",
   "metadata": {},
   "outputs": [
    {
     "data": {
      "text/plain": [
       "1.5"
      ]
     },
     "execution_count": 4,
     "metadata": {},
     "output_type": "execute_result"
    }
   ],
   "source": [
    "3/2"
   ]
  },
  {
   "cell_type": "markdown",
   "id": "2ca068c3-b132-47a1-b400-1f8aadafb6be",
   "metadata": {},
   "source": [
    "Modulo or Mod = reminder of divison operation\n"
   ]
  },
  {
   "cell_type": "code",
   "execution_count": 6,
   "id": "f70b27e7-449f-40e5-a056-d23098a8bae3",
   "metadata": {},
   "outputs": [
    {
     "data": {
      "text/plain": [
       "3"
      ]
     },
     "execution_count": 6,
     "metadata": {},
     "output_type": "execute_result"
    }
   ],
   "source": [
    "7%4\n"
   ]
  },
  {
   "cell_type": "markdown",
   "id": "688b0ba8-b77d-4f07-95a9-9695ebd3c79d",
   "metadata": {},
   "source": [
    "Floor division\n"
   ]
  },
  {
   "cell_type": "code",
   "execution_count": 11,
   "id": "45e63526-97e8-43c0-a791-1eba57235039",
   "metadata": {},
   "outputs": [
    {
     "data": {
      "text/plain": [
       "1"
      ]
     },
     "execution_count": 11,
     "metadata": {},
     "output_type": "execute_result"
    }
   ],
   "source": [
    "#Floor division rounds the result of normal division down to the nearest whole number, discarding any decimal part (e.g., 10 // 3 = 3). \n",
    "7//4\n"
   ]
  },
  {
   "cell_type": "markdown",
   "id": "9978b0c5-2235-470e-b88d-ee59a33de9f4",
   "metadata": {},
   "source": [
    "Power"
   ]
  },
  {
   "cell_type": "code",
   "execution_count": 8,
   "id": "dc47f7cc-6181-454b-81a5-774addd3c44b",
   "metadata": {},
   "outputs": [
    {
     "data": {
      "text/plain": [
       "27"
      ]
     },
     "execution_count": 8,
     "metadata": {},
     "output_type": "execute_result"
    }
   ],
   "source": [
    "3**3"
   ]
  },
  {
   "cell_type": "markdown",
   "id": "bdf1a51e-1e15-4737-a42c-649ed90297b2",
   "metadata": {},
   "source": [
    "Root"
   ]
  },
  {
   "cell_type": "code",
   "execution_count": 9,
   "id": "680f7c6a-c615-4a6d-a801-7ac49444e950",
   "metadata": {},
   "outputs": [
    {
     "data": {
      "text/plain": [
       "2.0"
      ]
     },
     "execution_count": 9,
     "metadata": {},
     "output_type": "execute_result"
    }
   ],
   "source": [
    "4**.5"
   ]
  },
  {
   "cell_type": "markdown",
   "id": "4b3d029c-943b-4a56-b1bd-d4e34544ff15",
   "metadata": {},
   "source": [
    "Order of operation"
   ]
  },
  {
   "cell_type": "code",
   "execution_count": 10,
   "id": "12a12c88-99ad-459a-b5bb-74079d922a98",
   "metadata": {},
   "outputs": [
    {
     "data": {
      "text/plain": [
       "105"
      ]
     },
     "execution_count": 10,
     "metadata": {},
     "output_type": "execute_result"
    }
   ],
   "source": [
    "2+10*10+3"
   ]
  },
  {
   "cell_type": "markdown",
   "id": "8def8f83-f047-4584-9658-452960748b69",
   "metadata": {},
   "source": [
    "# Variable assignemnts"
   ]
  },
  {
   "cell_type": "code",
   "execution_count": 12,
   "id": "09526963-35c8-48be-8499-46195f1a31a7",
   "metadata": {},
   "outputs": [],
   "source": [
    "a =10\n"
   ]
  },
  {
   "cell_type": "code",
   "execution_count": 13,
   "id": "37b8a8ed-3a04-4b02-a3de-7995cfa42f73",
   "metadata": {},
   "outputs": [
    {
     "data": {
      "text/plain": [
       "10"
      ]
     },
     "execution_count": 13,
     "metadata": {},
     "output_type": "execute_result"
    }
   ],
   "source": [
    "a"
   ]
  },
  {
   "cell_type": "code",
   "execution_count": 14,
   "id": "557e9c51-5aff-48c0-a8f3-e649cc222f88",
   "metadata": {},
   "outputs": [
    {
     "data": {
      "text/plain": [
       "int"
      ]
     },
     "execution_count": 14,
     "metadata": {},
     "output_type": "execute_result"
    }
   ],
   "source": [
    "type(a)"
   ]
  },
  {
   "cell_type": "code",
   "execution_count": 17,
   "id": "0727390c-4280-4569-aeb6-28747ba57559",
   "metadata": {},
   "outputs": [],
   "source": [
    "a=a+a"
   ]
  },
  {
   "cell_type": "code",
   "execution_count": 18,
   "id": "9ab8e338-1904-4776-9e75-b1d3ba9a5219",
   "metadata": {},
   "outputs": [
    {
     "data": {
      "text/plain": [
       "40"
      ]
     },
     "execution_count": 18,
     "metadata": {},
     "output_type": "execute_result"
    }
   ],
   "source": [
    "a"
   ]
  },
  {
   "cell_type": "code",
   "execution_count": 19,
   "id": "57747d21-7682-45a2-a854-75c4369c9062",
   "metadata": {},
   "outputs": [],
   "source": [
    "a=30.1"
   ]
  },
  {
   "cell_type": "code",
   "execution_count": 20,
   "id": "d44a4e7a-6e83-4526-8125-3c09de2a95f3",
   "metadata": {},
   "outputs": [
    {
     "data": {
      "text/plain": [
       "float"
      ]
     },
     "execution_count": 20,
     "metadata": {},
     "output_type": "execute_result"
    }
   ],
   "source": [
    "type(a)"
   ]
  },
  {
   "cell_type": "code",
   "execution_count": 22,
   "id": "5a2b2ca4-fbfb-4360-894e-34ae15194508",
   "metadata": {},
   "outputs": [],
   "source": [
    "my_income=100\n",
    "\n",
    "tax_rate=0.1\n",
    "\n",
    "my_taxes = my_income * tax_rate"
   ]
  },
  {
   "cell_type": "code",
   "execution_count": 23,
   "id": "14140bc2-ab1a-460e-b47a-62005ed23ec6",
   "metadata": {},
   "outputs": [
    {
     "data": {
      "text/plain": [
       "10.0"
      ]
     },
     "execution_count": 23,
     "metadata": {},
     "output_type": "execute_result"
    }
   ],
   "source": [
    "my_taxes"
   ]
  },
  {
   "cell_type": "code",
   "execution_count": null,
   "id": "fdef7240-d0a7-47b8-9d6f-3e66c26b26d7",
   "metadata": {},
   "outputs": [],
   "source": []
  }
 ],
 "metadata": {
  "kernelspec": {
   "display_name": "Python 3 (ipykernel)",
   "language": "python",
   "name": "python3"
  },
  "language_info": {
   "codemirror_mode": {
    "name": "ipython",
    "version": 3
   },
   "file_extension": ".py",
   "mimetype": "text/x-python",
   "name": "python",
   "nbconvert_exporter": "python",
   "pygments_lexer": "ipython3",
   "version": "3.12.7"
  }
 },
 "nbformat": 4,
 "nbformat_minor": 5
}
