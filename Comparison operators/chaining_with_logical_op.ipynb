{
 "cells": [
  {
   "cell_type": "code",
   "execution_count": 1,
   "id": "16477eab-b8a1-472c-98b7-aeeff429b5de",
   "metadata": {},
   "outputs": [
    {
     "data": {
      "text/plain": [
       "True"
      ]
     },
     "execution_count": 1,
     "metadata": {},
     "output_type": "execute_result"
    }
   ],
   "source": [
    "1 <2"
   ]
  },
  {
   "cell_type": "code",
   "execution_count": 2,
   "id": "dbac486e-017b-45cb-8f52-4c826b2fbe36",
   "metadata": {},
   "outputs": [
    {
     "data": {
      "text/plain": [
       "True"
      ]
     },
     "execution_count": 2,
     "metadata": {},
     "output_type": "execute_result"
    }
   ],
   "source": [
    "2<3"
   ]
  },
  {
   "cell_type": "code",
   "execution_count": 3,
   "id": "1e3fd3c4-eeea-4a27-a35c-0ad6f8217bb9",
   "metadata": {},
   "outputs": [
    {
     "data": {
      "text/plain": [
       "True"
      ]
     },
     "execution_count": 3,
     "metadata": {},
     "output_type": "execute_result"
    }
   ],
   "source": [
    "1<2<3"
   ]
  },
  {
   "cell_type": "code",
   "execution_count": 4,
   "id": "362d017e-c655-4e99-a36c-51c0f02ac736",
   "metadata": {},
   "outputs": [
    {
     "data": {
      "text/plain": [
       "False"
      ]
     },
     "execution_count": 4,
     "metadata": {},
     "output_type": "execute_result"
    }
   ],
   "source": [
    "1>2<3"
   ]
  },
  {
   "cell_type": "code",
   "execution_count": 5,
   "id": "23ac39e7-3337-452c-87f5-7a0e126a1165",
   "metadata": {},
   "outputs": [
    {
     "data": {
      "text/plain": [
       "True"
      ]
     },
     "execution_count": 5,
     "metadata": {},
     "output_type": "execute_result"
    }
   ],
   "source": [
    "#AND both of conditions need to be true\n",
    "1<2 and 2<3"
   ]
  },
  {
   "cell_type": "code",
   "execution_count": 7,
   "id": "c9c4e303-5be4-4664-9f17-4f9bfb98ae46",
   "metadata": {},
   "outputs": [
    {
     "data": {
      "text/plain": [
       "False"
      ]
     },
     "execution_count": 7,
     "metadata": {},
     "output_type": "execute_result"
    }
   ],
   "source": [
    "1>2 and 2<3"
   ]
  },
  {
   "cell_type": "code",
   "execution_count": 8,
   "id": "730e9e5a-a755-45f6-9aa4-0d531599a695",
   "metadata": {},
   "outputs": [
    {
     "data": {
      "text/plain": [
       "True"
      ]
     },
     "execution_count": 8,
     "metadata": {},
     "output_type": "execute_result"
    }
   ],
   "source": [
    "'h' =='h' and 2==2"
   ]
  },
  {
   "cell_type": "code",
   "execution_count": 9,
   "id": "9d63ec60-11c1-4c3f-b3ed-63fd72e33802",
   "metadata": {},
   "outputs": [],
   "source": [
    "# OR any 1 of condition needs to be true\n"
   ]
  },
  {
   "cell_type": "code",
   "execution_count": 10,
   "id": "ca9e8abf-0114-468f-b4c3-9b9aa7d30a0b",
   "metadata": {},
   "outputs": [
    {
     "data": {
      "text/plain": [
       "True"
      ]
     },
     "execution_count": 10,
     "metadata": {},
     "output_type": "execute_result"
    }
   ],
   "source": [
    "100 == 1 or 2 == 2"
   ]
  },
  {
   "cell_type": "code",
   "execution_count": 11,
   "id": "7067e6ab-14f1-49fc-aefc-931753f714f1",
   "metadata": {},
   "outputs": [
    {
     "data": {
      "text/plain": [
       "False"
      ]
     },
     "execution_count": 11,
     "metadata": {},
     "output_type": "execute_result"
    }
   ],
   "source": [
    "100 == 1 or 200 == 2"
   ]
  },
  {
   "cell_type": "code",
   "execution_count": 12,
   "id": "06f49296-89db-4928-82f8-0fd596ca5eb6",
   "metadata": {},
   "outputs": [],
   "source": [
    "# NOT returns opposite boolean\n"
   ]
  },
  {
   "cell_type": "code",
   "execution_count": 13,
   "id": "92d729a6-ec67-4f88-9e36-37ee7d062913",
   "metadata": {},
   "outputs": [
    {
     "data": {
      "text/plain": [
       "True"
      ]
     },
     "execution_count": 13,
     "metadata": {},
     "output_type": "execute_result"
    }
   ],
   "source": [
    "1 == 1"
   ]
  },
  {
   "cell_type": "code",
   "execution_count": 14,
   "id": "199ddb21-229a-4ea5-af4a-a7f19abadc9f",
   "metadata": {},
   "outputs": [
    {
     "data": {
      "text/plain": [
       "False"
      ]
     },
     "execution_count": 14,
     "metadata": {},
     "output_type": "execute_result"
    }
   ],
   "source": [
    "not 1==1"
   ]
  },
  {
   "cell_type": "code",
   "execution_count": 15,
   "id": "e1aadbd7-201e-4b16-bd2c-d0b0a176f02d",
   "metadata": {},
   "outputs": [
    {
     "data": {
      "text/plain": [
       "False"
      ]
     },
     "execution_count": 15,
     "metadata": {},
     "output_type": "execute_result"
    }
   ],
   "source": [
    "44 > 500"
   ]
  },
  {
   "cell_type": "code",
   "execution_count": 16,
   "id": "b0af0a05-e5ce-48b3-81a5-05504d02df7c",
   "metadata": {},
   "outputs": [
    {
     "data": {
      "text/plain": [
       "True"
      ]
     },
     "execution_count": 16,
     "metadata": {},
     "output_type": "execute_result"
    }
   ],
   "source": [
    "not 44 > 500"
   ]
  },
  {
   "cell_type": "code",
   "execution_count": null,
   "id": "9e646200-c9e7-4da0-a6b5-d80d29053b0c",
   "metadata": {},
   "outputs": [],
   "source": []
  }
 ],
 "metadata": {
  "kernelspec": {
   "display_name": "Python 3 (ipykernel)",
   "language": "python",
   "name": "python3"
  },
  "language_info": {
   "codemirror_mode": {
    "name": "ipython",
    "version": 3
   },
   "file_extension": ".py",
   "mimetype": "text/x-python",
   "name": "python",
   "nbconvert_exporter": "python",
   "pygments_lexer": "ipython3",
   "version": "3.12.7"
  }
 },
 "nbformat": 4,
 "nbformat_minor": 5
}
